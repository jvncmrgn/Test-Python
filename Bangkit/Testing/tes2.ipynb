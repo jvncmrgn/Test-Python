{
 "cells": [
  {
   "cell_type": "code",
   "execution_count": 1,
   "metadata": {},
   "outputs": [],
   "source": [
    "import pandas as pd"
   ]
  },
  {
   "cell_type": "code",
   "execution_count": 64,
   "metadata": {},
   "outputs": [
    {
     "name": "stdout",
     "output_type": "stream",
     "text": [
      "Index(['id', 'nama', 'kategori'], dtype='object')\n"
     ]
    }
   ],
   "source": [
    "df = pd.read_csv(r\"C:\\Users\\jovan\\OneDrive\\Documents\\Vs Code\\Python VSCODE\\Bangkit\\Testing\\file_gabungan.csv\")\n",
    "print(df.columns)\n"
   ]
  },
  {
   "cell_type": "code",
   "execution_count": 65,
   "metadata": {},
   "outputs": [],
   "source": [
    "df['id'] = range(1, len(df) + 1)"
   ]
  },
  {
   "cell_type": "code",
   "execution_count": 66,
   "metadata": {},
   "outputs": [],
   "source": [
    "df.to_csv(\"file_gabungan_urut_id.csv\", index=False)\n"
   ]
  },
  {
   "cell_type": "code",
   "execution_count": 59,
   "metadata": {},
   "outputs": [],
   "source": [
    "df['Kategori'] = 'Hiburan'"
   ]
  },
  {
   "cell_type": "code",
   "execution_count": 60,
   "metadata": {},
   "outputs": [],
   "source": [
    "df = df.rename(columns={\n",
    "    'Package': 'id',\n",
    "    'Place_Tourism4': 'nama',\n",
    "    'Kategori': 'kategori'\n",
    "})"
   ]
  },
  {
   "cell_type": "code",
   "execution_count": 61,
   "metadata": {},
   "outputs": [
    {
     "name": "stdout",
     "output_type": "stream",
     "text": [
      "     id                                               nama kategori\n",
      "3     4                                      Pulau Pramuka  Hiburan\n",
      "4     5  Museum Macan (Modern and Contemporary Art in N...  Hiburan\n",
      "7     8                              Perpustakaan Nasional  Hiburan\n",
      "9    10                                  Museum Fatahillah  Hiburan\n",
      "10   11                          Wisata Kuliner Pecenongan  Hiburan\n",
      "..  ...                                                ...      ...\n",
      "95   96                    Taman Ekspresi Dan Perpustakaan  Hiburan\n",
      "96   97                        Food Junction Grand Pakuwon  Hiburan\n",
      "97   98                                      Taman Bungkul  Hiburan\n",
      "98   99                                Museum Mpu Tantular  Hiburan\n",
      "99  100                               Kebun Bibit Wonorejo  Hiburan\n",
      "\n",
      "[66 rows x 3 columns]\n"
     ]
    }
   ],
   "source": [
    "df = df.dropna(subset=['nama'])\n",
    "print(df)"
   ]
  },
  {
   "cell_type": "code",
   "execution_count": 62,
   "metadata": {},
   "outputs": [
    {
     "name": "stdout",
     "output_type": "stream",
     "text": [
      "    id                                               nama kategori\n",
      "3    1                                      Pulau Pramuka  Hiburan\n",
      "4    2  Museum Macan (Modern and Contemporary Art in N...  Hiburan\n",
      "7    3                              Perpustakaan Nasional  Hiburan\n",
      "9    4                                  Museum Fatahillah  Hiburan\n",
      "10   5                          Wisata Kuliner Pecenongan  Hiburan\n",
      "..  ..                                                ...      ...\n",
      "95  62                    Taman Ekspresi Dan Perpustakaan  Hiburan\n",
      "96  63                        Food Junction Grand Pakuwon  Hiburan\n",
      "97  64                                      Taman Bungkul  Hiburan\n",
      "98  65                                Museum Mpu Tantular  Hiburan\n",
      "99  66                               Kebun Bibit Wonorejo  Hiburan\n",
      "\n",
      "[66 rows x 3 columns]\n"
     ]
    }
   ],
   "source": [
    "df['id'] = range(1, len(df) + 1)\n",
    "print(df)"
   ]
  },
  {
   "cell_type": "code",
   "execution_count": 63,
   "metadata": {},
   "outputs": [],
   "source": [
    "df.to_csv(\"file_baru4.csv\", index=False)"
   ]
  }
 ],
 "metadata": {
  "kernelspec": {
   "display_name": "base",
   "language": "python",
   "name": "python3"
  },
  "language_info": {
   "codemirror_mode": {
    "name": "ipython",
    "version": 3
   },
   "file_extension": ".py",
   "mimetype": "text/x-python",
   "name": "python",
   "nbconvert_exporter": "python",
   "pygments_lexer": "ipython3",
   "version": "3.9.18"
  }
 },
 "nbformat": 4,
 "nbformat_minor": 2
}
