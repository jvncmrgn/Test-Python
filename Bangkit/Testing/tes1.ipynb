{
 "cells": [
  {
   "cell_type": "code",
   "execution_count": 16,
   "metadata": {},
   "outputs": [],
   "source": [
    "import pandas as pd\n",
    "from io import StringIO"
   ]
  },
  {
   "cell_type": "code",
   "execution_count": 36,
   "metadata": {},
   "outputs": [],
   "source": [
    "df1 = pd.read_csv(r'C:\\Users\\jovan\\OneDrive\\Documents\\Vs Code\\Python VSCODE\\Bangkit\\Testing\\file_final.csv')\n",
    "df1 = df1.drop_duplicates(subset=['nama'], keep='first')\n",
    "df1['id'] = range(1, len(df1) + 1)\n",
    "df1.to_csv(\"file.csv\", index=False)"
   ]
  },
  {
   "cell_type": "code",
   "execution_count": 40,
   "metadata": {},
   "outputs": [],
   "source": [
    "import pandas as pd\n",
    "\n",
    "# Membaca file CSV\n",
    "df1 = pd.read_csv(r'C:\\Users\\jovan\\OneDrive\\Documents\\Vs Code\\Python VSCODE\\Bangkit\\Testing\\Dataset.csv')\n",
    "df2 = pd.read_csv(r'C:\\Users\\jovan\\OneDrive\\Documents\\Vs Code\\Python VSCODE\\Bangkit\\Testing\\file_gabungan.csv')\n",
    "\n",
    "# Mengonversi kolom \"id\" ke tipe data numerik\n",
    "df1[\"id\"] = pd.to_numeric(df1[\"id\"], errors=\"coerce\")\n",
    "\n",
    "# Mendapatkan nilai maksimum dari kolom \"id\" di DataFrame pertama\n",
    "max_id_df1 = df1[\"id\"].max()\n",
    "\n",
    "# Mengisi nilai yang hilang secara berurutan\n",
    "df2[\"id\"] = range(max_id_df1 + 1, max_id_df1 + 1 + len(df2))\n",
    "\n",
    "# Menggabungkan DataFrame menggunakan concat dengan ignore_index=True\n",
    "df_gabung = pd.concat([df1, df2], ignore_index=True)\n",
    "\n",
    "# Menyimpan DataFrame hasil penggabungan ke file CSV\n",
    "df_gabung.to_csv(\"dataset_gabungan.csv\", index=False)\n"
   ]
  },
  {
   "cell_type": "code",
   "execution_count": 21,
   "metadata": {},
   "outputs": [],
   "source": []
  },
  {
   "cell_type": "code",
   "execution_count": 22,
   "metadata": {},
   "outputs": [
    {
     "name": "stdout",
     "output_type": "stream",
     "text": [
      "     id              nama kategori\n",
      "0   406        Banda Aceh  Hiburan\n",
      "1   407           Bandung  Hiburan\n",
      "2   408         Palembang  Hiburan\n",
      "3   409            Padang  Hiburan\n",
      "4   410          Bengkulu  Hiburan\n",
      "..  ...               ...      ...\n",
      "63  470           Merauke  Hiburan\n",
      "64  471      Papua Tengah  Hiburan\n",
      "65  472            Nabire  Hiburan\n",
      "66  473  Papua Pegunungan  Hiburan\n",
      "67  474        Jayawijaya  Hiburan\n",
      "\n",
      "[68 rows x 3 columns]\n"
     ]
    }
   ],
   "source": [
    "df_new = pd.read_csv(pd.compat.StringIO(data_new))\n",
    "print(df_new)"
   ]
  },
  {
   "cell_type": "code",
   "execution_count": 23,
   "metadata": {},
   "outputs": [],
   "source": [
    "df_new.to_csv('file1.csv', index=False)"
   ]
  },
  {
   "cell_type": "code",
   "execution_count": null,
   "metadata": {},
   "outputs": [],
   "source": [
    "df_combined = df.append(df_new, ignore_index=True)"
   ]
  },
  {
   "cell_type": "code",
   "execution_count": 9,
   "metadata": {},
   "outputs": [],
   "source": [
    "# Menyimpan hasil kembali ke file CSV\n",
    "df_combined.to_csv('file1.csv', index=False)"
   ]
  }
 ],
 "metadata": {
  "kernelspec": {
   "display_name": "base",
   "language": "python",
   "name": "python3"
  },
  "language_info": {
   "codemirror_mode": {
    "name": "ipython",
    "version": 3
   },
   "file_extension": ".py",
   "mimetype": "text/x-python",
   "name": "python",
   "nbconvert_exporter": "python",
   "pygments_lexer": "ipython3",
   "version": "3.9.18"
  }
 },
 "nbformat": 4,
 "nbformat_minor": 2
}
